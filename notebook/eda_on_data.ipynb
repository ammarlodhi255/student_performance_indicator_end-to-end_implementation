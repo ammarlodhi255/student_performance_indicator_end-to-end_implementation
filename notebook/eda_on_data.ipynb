{
 "cells": [
  {
   "attachments": {},
   "cell_type": "markdown",
   "metadata": {},
   "source": [
    "# Student Performance Indicator\n",
    "\n",
    "### Life Cycle of This Project:\n",
    "\n",
    "- Understanding the Problem Statement\n",
    "- Data Collection\n",
    "- Perform Data Checks\n",
    "- Exploratory Data Analysis\n",
    "- Data Pre-processing\n",
    "- Model Training\n",
    "- Choosing Best Performing Model"
   ]
  },
  {
   "attachments": {},
   "cell_type": "markdown",
   "metadata": {},
   "source": [
    "### 1) Problem Statement\n",
    "The goal of this project is to understand the influence of the parents background, test preparation, and various other variables on the students performance."
   ]
  },
  {
   "attachments": {},
   "cell_type": "markdown",
   "metadata": {},
   "source": [
    "### 2) Data Collection\n",
    "- Data Source: https://www.kaggle.com/datasets/spscientist/students-performance-in-exams?resource=download\n",
    "\n",
    "- The dataset is designed for data science training and is fictional. It includes scores from three exams and a variety of personal, social, and economic factors that have interaction effects upon them.\n",
    "\n",
    "- Consists of 8 columns and 1000 rows."
   ]
  },
  {
   "cell_type": "code",
   "execution_count": 3,
   "metadata": {},
   "outputs": [],
   "source": [
    "import warnings\n",
    "import pandas as pd \n",
    "import numpy as np \n",
    "import matplotlib.pyplot as plt\n",
    "%matplotlib inline\n",
    "import seaborn as sns\n",
    "warnings.filterwarnings('ignore')"
   ]
  },
  {
   "cell_type": "code",
   "execution_count": null,
   "metadata": {},
   "outputs": [],
   "source": []
  }
 ],
 "metadata": {
  "kernelspec": {
   "display_name": "Python 3",
   "language": "python",
   "name": "python3"
  },
  "language_info": {
   "codemirror_mode": {
    "name": "ipython",
    "version": 3
   },
   "file_extension": ".py",
   "mimetype": "text/x-python",
   "name": "python",
   "nbconvert_exporter": "python",
   "pygments_lexer": "ipython3",
   "version": "3.10.5"
  },
  "orig_nbformat": 4,
  "vscode": {
   "interpreter": {
    "hash": "7c2737f5cd3eb6a237b7123ce75c641d6f975db18b0c0702ad2055474d78171c"
   }
  }
 },
 "nbformat": 4,
 "nbformat_minor": 2
}
